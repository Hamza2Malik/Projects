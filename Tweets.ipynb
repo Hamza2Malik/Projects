{
 "cells": [
  {
   "cell_type": "code",
   "execution_count": 1,
   "id": "2b30e4b5",
   "metadata": {},
   "outputs": [],
   "source": [
    "import matplotlib.pyplot as plt\n",
    "import wordcloud\n",
    "from wordcloud import WordCloud"
   ]
  },
  {
   "cell_type": "code",
   "execution_count": 2,
   "id": "27cdd8bd",
   "metadata": {},
   "outputs": [
    {
     "name": "stderr",
     "output_type": "stream",
     "text": [
      "[nltk_data] Downloading package stopwords to\n",
      "[nltk_data]     C:\\Users\\Messi\\AppData\\Roaming\\nltk_data...\n",
      "[nltk_data]   Package stopwords is already up-to-date!\n"
     ]
    },
    {
     "data": {
      "text/plain": [
       "True"
      ]
     },
     "execution_count": 2,
     "metadata": {},
     "output_type": "execute_result"
    }
   ],
   "source": [
    "import nltk\n",
    "nltk.download('stopwords')\n",
    "  "
   ]
  },
  {
   "cell_type": "code",
   "execution_count": 3,
   "id": "73b3affb",
   "metadata": {},
   "outputs": [],
   "source": [
    "import snscrape.modules.twitter as sntwitter\n",
    "import pandas as pd\n",
    "from nltk.corpus import stopwords"
   ]
  },
  {
   "cell_type": "code",
   "execution_count": 4,
   "id": "6eb6f722",
   "metadata": {},
   "outputs": [
    {
     "name": "stderr",
     "output_type": "stream",
     "text": [
      "C:\\Users\\Messi\\AppData\\Local\\Temp\\ipykernel_20700\\735970260.py:10: FutureWarning: username is deprecated, use user.username instead\n",
      "  tweets.append([tweet.date, tweet.username, tweet.content, tweet.likeCount])\n"
     ]
    }
   ],
   "source": [
    "# Scraping data from Twitter\n",
    "query = \"(from:elonmusk) until:2022-11-18 since:2010-01-01\"\n",
    "tweets = []\n",
    "\n",
    "limit = 10000\n",
    "\n",
    "for tweet in sntwitter.TwitterSearchScraper(query).get_items():\n",
    "    if len(tweets)==limit:\n",
    "        break\n",
    "    else:\n",
    "        tweets.append([tweet.date, tweet.username, tweet.content, tweet.likeCount])"
   ]
  },
  {
   "cell_type": "code",
   "execution_count": 5,
   "id": "05c98839",
   "metadata": {},
   "outputs": [],
   "source": [
    "#creating DataFrame\n",
    "df = pd.DataFrame(tweets, columns= ['Date', 'User', 'Tweet', 'likeCount'])"
   ]
  },
  {
   "cell_type": "code",
   "execution_count": 6,
   "id": "c782124c",
   "metadata": {
    "scrolled": true
   },
   "outputs": [
    {
     "data": {
      "text/html": [
       "<div>\n",
       "<style scoped>\n",
       "    .dataframe tbody tr th:only-of-type {\n",
       "        vertical-align: middle;\n",
       "    }\n",
       "\n",
       "    .dataframe tbody tr th {\n",
       "        vertical-align: top;\n",
       "    }\n",
       "\n",
       "    .dataframe thead th {\n",
       "        text-align: right;\n",
       "    }\n",
       "</style>\n",
       "<table border=\"1\" class=\"dataframe\">\n",
       "  <thead>\n",
       "    <tr style=\"text-align: right;\">\n",
       "      <th></th>\n",
       "      <th>Date</th>\n",
       "      <th>User</th>\n",
       "      <th>Tweet</th>\n",
       "      <th>likeCount</th>\n",
       "    </tr>\n",
       "  </thead>\n",
       "  <tbody>\n",
       "    <tr>\n",
       "      <th>0</th>\n",
       "      <td>2022-11-17 23:34:38+00:00</td>\n",
       "      <td>elonmusk</td>\n",
       "      <td>@growing_daniel @micsolana 🤣</td>\n",
       "      <td>31566</td>\n",
       "    </tr>\n",
       "    <tr>\n",
       "      <th>1</th>\n",
       "      <td>2022-11-17 23:28:28+00:00</td>\n",
       "      <td>elonmusk</td>\n",
       "      <td>@EvaFoxU The media constantly writing about Tw...</td>\n",
       "      <td>94529</td>\n",
       "    </tr>\n",
       "    <tr>\n",
       "      <th>2</th>\n",
       "      <td>2022-11-17 20:28:52+00:00</td>\n",
       "      <td>elonmusk</td>\n",
       "      <td>@MinimalDuck @Tesla Cybertruck is something sp...</td>\n",
       "      <td>42035</td>\n",
       "    </tr>\n",
       "    <tr>\n",
       "      <th>3</th>\n",
       "      <td>2022-11-17 17:53:14+00:00</td>\n",
       "      <td>elonmusk</td>\n",
       "      <td>@heydave7 Current class-action law is actually...</td>\n",
       "      <td>11981</td>\n",
       "    </tr>\n",
       "    <tr>\n",
       "      <th>4</th>\n",
       "      <td>2022-11-17 17:50:20+00:00</td>\n",
       "      <td>elonmusk</td>\n",
       "      <td>@heydave7 The actual attackers in class-action...</td>\n",
       "      <td>13579</td>\n",
       "    </tr>\n",
       "  </tbody>\n",
       "</table>\n",
       "</div>"
      ],
      "text/plain": [
       "                       Date      User  \\\n",
       "0 2022-11-17 23:34:38+00:00  elonmusk   \n",
       "1 2022-11-17 23:28:28+00:00  elonmusk   \n",
       "2 2022-11-17 20:28:52+00:00  elonmusk   \n",
       "3 2022-11-17 17:53:14+00:00  elonmusk   \n",
       "4 2022-11-17 17:50:20+00:00  elonmusk   \n",
       "\n",
       "                                               Tweet  likeCount  \n",
       "0                       @growing_daniel @micsolana 🤣      31566  \n",
       "1  @EvaFoxU The media constantly writing about Tw...      94529  \n",
       "2  @MinimalDuck @Tesla Cybertruck is something sp...      42035  \n",
       "3  @heydave7 Current class-action law is actually...      11981  \n",
       "4  @heydave7 The actual attackers in class-action...      13579  "
      ]
     },
     "execution_count": 6,
     "metadata": {},
     "output_type": "execute_result"
    }
   ],
   "source": [
    "df.head()"
   ]
  },
  {
   "cell_type": "code",
   "execution_count": 7,
   "id": "2adb51fb",
   "metadata": {},
   "outputs": [],
   "source": [
    "#tweet"
   ]
  },
  {
   "cell_type": "code",
   "execution_count": 8,
   "id": "5cf38942",
   "metadata": {},
   "outputs": [
    {
     "data": {
      "text/html": [
       "<div>\n",
       "<style scoped>\n",
       "    .dataframe tbody tr th:only-of-type {\n",
       "        vertical-align: middle;\n",
       "    }\n",
       "\n",
       "    .dataframe tbody tr th {\n",
       "        vertical-align: top;\n",
       "    }\n",
       "\n",
       "    .dataframe thead th {\n",
       "        text-align: right;\n",
       "    }\n",
       "</style>\n",
       "<table border=\"1\" class=\"dataframe\">\n",
       "  <thead>\n",
       "    <tr style=\"text-align: right;\">\n",
       "      <th></th>\n",
       "      <th>Date</th>\n",
       "      <th>User</th>\n",
       "      <th>Tweet</th>\n",
       "      <th>likeCount</th>\n",
       "    </tr>\n",
       "  </thead>\n",
       "  <tbody>\n",
       "    <tr>\n",
       "      <th>2723</th>\n",
       "      <td>2022-04-28 00:56:58+00:00</td>\n",
       "      <td>elonmusk</td>\n",
       "      <td>Next I’m buying Coca-Cola to put the cocaine b...</td>\n",
       "      <td>4763602</td>\n",
       "    </tr>\n",
       "    <tr>\n",
       "      <th>2747</th>\n",
       "      <td>2022-04-25 16:12:30+00:00</td>\n",
       "      <td>elonmusk</td>\n",
       "      <td>I hope that even my worst critics remain on Tw...</td>\n",
       "      <td>3218817</td>\n",
       "    </tr>\n",
       "    <tr>\n",
       "      <th>2720</th>\n",
       "      <td>2022-04-28 01:53:50+00:00</td>\n",
       "      <td>elonmusk</td>\n",
       "      <td>Let’s make Twitter maximum fun!</td>\n",
       "      <td>2639365</td>\n",
       "    </tr>\n",
       "    <tr>\n",
       "      <th>2746</th>\n",
       "      <td>2022-04-25 19:43:22+00:00</td>\n",
       "      <td>elonmusk</td>\n",
       "      <td>🚀💫♥️ Yesss!!! ♥️💫🚀 https://t.co/0T9HzUHuh6</td>\n",
       "      <td>2597284</td>\n",
       "    </tr>\n",
       "    <tr>\n",
       "      <th>2719</th>\n",
       "      <td>2022-04-28 01:57:27+00:00</td>\n",
       "      <td>elonmusk</td>\n",
       "      <td>Listen, I can’t do miracles ok https://t.co/z7...</td>\n",
       "      <td>2569573</td>\n",
       "    </tr>\n",
       "    <tr>\n",
       "      <th>...</th>\n",
       "      <td>...</td>\n",
       "      <td>...</td>\n",
       "      <td>...</td>\n",
       "      <td>...</td>\n",
       "    </tr>\n",
       "    <tr>\n",
       "      <th>8227</th>\n",
       "      <td>2020-07-04 16:42:56+00:00</td>\n",
       "      <td>elonmusk</td>\n",
       "      <td>@leighalexander You’re a good person</td>\n",
       "      <td>296</td>\n",
       "    </tr>\n",
       "    <tr>\n",
       "      <th>9350</th>\n",
       "      <td>2020-03-23 22:29:31+00:00</td>\n",
       "      <td>elonmusk</td>\n",
       "      <td>@RenataKonkoly @sdunbabin @jonkay @Quillette E...</td>\n",
       "      <td>260</td>\n",
       "    </tr>\n",
       "    <tr>\n",
       "      <th>9137</th>\n",
       "      <td>2020-04-16 04:20:46+00:00</td>\n",
       "      <td>elonmusk</td>\n",
       "      <td>@samoanpunch @cromas @Bob_Wachter Interesting</td>\n",
       "      <td>245</td>\n",
       "    </tr>\n",
       "    <tr>\n",
       "      <th>8250</th>\n",
       "      <td>2020-07-03 23:47:20+00:00</td>\n",
       "      <td>elonmusk</td>\n",
       "      <td>@EverydayElon @TeslaTested @teslaownersSV @kim...</td>\n",
       "      <td>243</td>\n",
       "    </tr>\n",
       "    <tr>\n",
       "      <th>8657</th>\n",
       "      <td>2020-05-15 17:02:35+00:00</td>\n",
       "      <td>elonmusk</td>\n",
       "      <td>@DanielleFong @ThieveryCorpDC Totally. Collect...</td>\n",
       "      <td>174</td>\n",
       "    </tr>\n",
       "  </tbody>\n",
       "</table>\n",
       "<p>10000 rows × 4 columns</p>\n",
       "</div>"
      ],
      "text/plain": [
       "                          Date      User  \\\n",
       "2723 2022-04-28 00:56:58+00:00  elonmusk   \n",
       "2747 2022-04-25 16:12:30+00:00  elonmusk   \n",
       "2720 2022-04-28 01:53:50+00:00  elonmusk   \n",
       "2746 2022-04-25 19:43:22+00:00  elonmusk   \n",
       "2719 2022-04-28 01:57:27+00:00  elonmusk   \n",
       "...                        ...       ...   \n",
       "8227 2020-07-04 16:42:56+00:00  elonmusk   \n",
       "9350 2020-03-23 22:29:31+00:00  elonmusk   \n",
       "9137 2020-04-16 04:20:46+00:00  elonmusk   \n",
       "8250 2020-07-03 23:47:20+00:00  elonmusk   \n",
       "8657 2020-05-15 17:02:35+00:00  elonmusk   \n",
       "\n",
       "                                                  Tweet  likeCount  \n",
       "2723  Next I’m buying Coca-Cola to put the cocaine b...    4763602  \n",
       "2747  I hope that even my worst critics remain on Tw...    3218817  \n",
       "2720                    Let’s make Twitter maximum fun!    2639365  \n",
       "2746         🚀💫♥️ Yesss!!! ♥️💫🚀 https://t.co/0T9HzUHuh6    2597284  \n",
       "2719  Listen, I can’t do miracles ok https://t.co/z7...    2569573  \n",
       "...                                                 ...        ...  \n",
       "8227               @leighalexander You’re a good person        296  \n",
       "9350  @RenataKonkoly @sdunbabin @jonkay @Quillette E...        260  \n",
       "9137      @samoanpunch @cromas @Bob_Wachter Interesting        245  \n",
       "8250  @EverydayElon @TeslaTested @teslaownersSV @kim...        243  \n",
       "8657  @DanielleFong @ThieveryCorpDC Totally. Collect...        174  \n",
       "\n",
       "[10000 rows x 4 columns]"
      ]
     },
     "execution_count": 8,
     "metadata": {},
     "output_type": "execute_result"
    }
   ],
   "source": [
    "# sorting values using word count\n",
    "df = df.sort_values(by = \"likeCount\", ascending = False)\n",
    "df"
   ]
  },
  {
   "cell_type": "code",
   "execution_count": 10,
   "id": "079ae897",
   "metadata": {},
   "outputs": [],
   "source": [
    "#split each word\n",
    "splitted = df.Tweet.str.split()"
   ]
  },
  {
   "cell_type": "code",
   "execution_count": 11,
   "id": "6b341fbc",
   "metadata": {},
   "outputs": [],
   "source": [
    "# Flatten that word in Single dimension\n",
    "flatten_list = sum(splitted, [])"
   ]
  },
  {
   "cell_type": "code",
   "execution_count": 13,
   "id": "028736a2",
   "metadata": {},
   "outputs": [
    {
     "data": {
      "text/plain": [
       "121109"
      ]
     },
     "execution_count": 13,
     "metadata": {},
     "output_type": "execute_result"
    }
   ],
   "source": [
    "len(flatten_list)"
   ]
  },
  {
   "cell_type": "code",
   "execution_count": 14,
   "id": "eef6dd75",
   "metadata": {},
   "outputs": [],
   "source": [
    "# converting all words to lowercase\n",
    "flatten_list = [word.lower() for word in flatten_list]"
   ]
  },
  {
   "cell_type": "code",
   "execution_count": 15,
   "id": "01820700",
   "metadata": {},
   "outputs": [],
   "source": [
    "#stopwords.words('english')"
   ]
  },
  {
   "cell_type": "code",
   "execution_count": 16,
   "id": "ce243d1b",
   "metadata": {},
   "outputs": [],
   "source": [
    "# stop words from nltk\n",
    "stop = stopwords.words('english')\n"
   ]
  },
  {
   "cell_type": "code",
   "execution_count": 17,
   "id": "aec7d502",
   "metadata": {},
   "outputs": [],
   "source": [
    "#appending some word from wword\n",
    "stop.append(\"&amp;\")\n",
    "stop.append(\"it’s\")"
   ]
  },
  {
   "cell_type": "code",
   "execution_count": 20,
   "id": "fb4c3785",
   "metadata": {},
   "outputs": [],
   "source": [
    "#Removing stop words\n",
    "flat_list = [word for word in flatten_list if word not in stop] "
   ]
  },
  {
   "cell_type": "code",
   "execution_count": 21,
   "id": "4919b808",
   "metadata": {},
   "outputs": [],
   "source": [
    "arr = pd.Series(flat_list)"
   ]
  },
  {
   "cell_type": "code",
   "execution_count": 22,
   "id": "c5a97520",
   "metadata": {},
   "outputs": [
    {
     "data": {
      "text/plain": [
       "tesla             498\n",
       "@ppathole         454\n",
       "@wholemarsblog    449\n",
       "@spacex           412\n",
       "@teslaownerssv    397\n",
       "                 ... \n",
       "jewel               1\n",
       "brandenburg!        1\n",
       "@rice_fry           1\n",
       "happen?             1\n",
       "fear.               1\n",
       "Length: 20886, dtype: int64"
      ]
     },
     "execution_count": 22,
     "metadata": {},
     "output_type": "execute_result"
    }
   ],
   "source": [
    "arr_count = arr.value_counts()\n",
    "arr_count"
   ]
  },
  {
   "cell_type": "code",
   "execution_count": 23,
   "id": "f8deb124",
   "metadata": {},
   "outputs": [
    {
     "data": {
      "text/plain": [
       "tesla              498\n",
       "@ppathole          454\n",
       "@wholemarsblog     449\n",
       "@spacex            412\n",
       "@teslaownerssv     397\n",
       "@erdayastronaut    390\n",
       "@tesla             356\n",
       "@flcnhvy           285\n",
       "good               282\n",
       "much               280\n",
       "would              275\n",
       "🤣                  261\n",
       "great              256\n",
       "…                  252\n",
       "@billym2k          249\n",
       "like               240\n",
       "🤣🤣                 223\n",
       "@teslarati         207\n",
       "one                204\n",
       "people             201\n",
       "dtype: int64"
      ]
     },
     "execution_count": 23,
     "metadata": {},
     "output_type": "execute_result"
    }
   ],
   "source": [
    "arr_count.head(20)"
   ]
  },
  {
   "cell_type": "code",
   "execution_count": 24,
   "id": "6e50dc5b",
   "metadata": {},
   "outputs": [],
   "source": [
    "wc = WordCloud(\n",
    "background_color=\"white\",\n",
    "height = 720, width = 1080\n",
    ")"
   ]
  },
  {
   "cell_type": "code",
   "execution_count": 25,
   "id": "d7e7af4c",
   "metadata": {},
   "outputs": [
    {
     "data": {
      "text/plain": [
       "<wordcloud.wordcloud.WordCloud at 0x26d784a04f0>"
      ]
     },
     "execution_count": 25,
     "metadata": {},
     "output_type": "execute_result"
    }
   ],
   "source": [
    "wc.generate(str(arr))"
   ]
  },
  {
   "cell_type": "code",
   "execution_count": 26,
   "id": "c6205bb5",
   "metadata": {},
   "outputs": [
    {
     "data": {
      "text/plain": [
       "<wordcloud.wordcloud.WordCloud at 0x26d784a04f0>"
      ]
     },
     "execution_count": 26,
     "metadata": {},
     "output_type": "execute_result"
    }
   ],
   "source": [
    "wc.to_file(\"word_cloud.png\")"
   ]
  },
  {
   "cell_type": "code",
   "execution_count": 27,
   "id": "5cd17e65",
   "metadata": {},
   "outputs": [
    {
     "data": {
      "text/plain": [
       "<wordcloud.wordcloud.WordCloud at 0x26d784a04f0>"
      ]
     },
     "execution_count": 27,
     "metadata": {},
     "output_type": "execute_result"
    }
   ],
   "source": [
    "wc.generate_from_frequencies(arr_count)"
   ]
  },
  {
   "cell_type": "code",
   "execution_count": 28,
   "id": "e1a23ad3",
   "metadata": {},
   "outputs": [
    {
     "data": {
      "text/plain": [
       "<wordcloud.wordcloud.WordCloud at 0x26d784a04f0>"
      ]
     },
     "execution_count": 28,
     "metadata": {},
     "output_type": "execute_result"
    }
   ],
   "source": [
    "wc.to_file(\"word_cloud.png\")"
   ]
  },
  {
   "cell_type": "code",
   "execution_count": 86,
   "id": "0d48acc2",
   "metadata": {},
   "outputs": [],
   "source": []
  },
  {
   "cell_type": "code",
   "execution_count": null,
   "id": "70b4cf27",
   "metadata": {},
   "outputs": [],
   "source": []
  }
 ],
 "metadata": {
  "kernelspec": {
   "display_name": "Python 3 (ipykernel)",
   "language": "python",
   "name": "python3"
  },
  "language_info": {
   "codemirror_mode": {
    "name": "ipython",
    "version": 3
   },
   "file_extension": ".py",
   "mimetype": "text/x-python",
   "name": "python",
   "nbconvert_exporter": "python",
   "pygments_lexer": "ipython3",
   "version": "3.9.12"
  }
 },
 "nbformat": 4,
 "nbformat_minor": 5
}
